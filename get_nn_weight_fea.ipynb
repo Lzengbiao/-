{
 "cells": [
  {
   "cell_type": "code",
   "execution_count": 1,
   "metadata": {},
   "outputs": [],
   "source": [
    "import pandas as pd\n",
    "import numpy as np"
   ]
  },
  {
   "cell_type": "code",
   "execution_count": 2,
   "metadata": {},
   "outputs": [],
   "source": [
    "age_test_data = pd.read_csv('../data/age_test.csv',names=['uid'])\n",
    "age_train_data = pd.read_csv('../data/age_train.csv',names=['uid','age_group'])"
   ]
  },
  {
   "cell_type": "code",
   "execution_count": 3,
   "metadata": {},
   "outputs": [],
   "source": [
    "most_dura = pd.read_csv('../feature/use_most_eight_duration_app.csv')"
   ]
  },
  {
   "cell_type": "code",
   "execution_count": 4,
   "metadata": {},
   "outputs": [],
   "source": [
    "age_train_data = age_train_data.merge(most_dura,on=['uid'],how='left')\n",
    "age_test_data = age_test_data.merge(most_dura,on=['uid'],how='left')"
   ]
  },
  {
   "cell_type": "code",
   "execution_count": 5,
   "metadata": {},
   "outputs": [],
   "source": [
    "for i in age_train_data.columns:\n",
    "    if 'appid' in i:\n",
    "        age_train_data.drop(columns=[i],inplace=True)\n",
    "        age_test_data.drop(columns=[i],inplace=True)\n",
    "    if 'value' in i:\n",
    "        age_train_data[i] = age_train_data[i].fillna(age_train_data[i].mean())\n",
    "        age_test_data[i] = age_test_data[i].fillna(age_train_data[i].mean())"
   ]
  },
  {
   "cell_type": "code",
   "execution_count": 6,
   "metadata": {},
   "outputs": [],
   "source": [
    "value = [i for i in age_train_data.columns if 'value' in i]"
   ]
  },
  {
   "cell_type": "code",
   "execution_count": 7,
   "metadata": {},
   "outputs": [],
   "source": [
    "train_weight = age_train_data[value].values"
   ]
  },
  {
   "cell_type": "code",
   "execution_count": 9,
   "metadata": {},
   "outputs": [],
   "source": [
    "train_weight = train_weight.reshape(len(age_train_data),3,15).swapaxes(1,2)"
   ]
  },
  {
   "cell_type": "code",
   "execution_count": 10,
   "metadata": {},
   "outputs": [],
   "source": [
    "test_weight = age_test_data[value].values"
   ]
  },
  {
   "cell_type": "code",
   "execution_count": 11,
   "metadata": {},
   "outputs": [],
   "source": [
    "test_weight = test_weight.reshape(len(age_test_data),3,15).swapaxes(1,2)"
   ]
  },
  {
   "cell_type": "code",
   "execution_count": 12,
   "metadata": {},
   "outputs": [
    {
     "name": "stdout",
     "output_type": "stream",
     "text": [
      "(2010000, 15, 3)\n",
      "(502500, 15, 3)\n"
     ]
    }
   ],
   "source": [
    "print(train_weight.shape)\n",
    "print(test_weight.shape)"
   ]
  },
  {
   "cell_type": "code",
   "execution_count": 13,
   "metadata": {},
   "outputs": [],
   "source": [
    "np.save('../feature/nn_weight_train.npy',train_weight)\n",
    "np.save('../feature/nn_weight_test.npy',test_weight)"
   ]
  },
  {
   "cell_type": "code",
   "execution_count": null,
   "metadata": {},
   "outputs": [],
   "source": []
  }
 ],
 "metadata": {
  "kernelspec": {
   "display_name": "Python 3",
   "language": "python",
   "name": "python3"
  },
  "language_info": {
   "codemirror_mode": {
    "name": "ipython",
    "version": 3
   },
   "file_extension": ".py",
   "mimetype": "text/x-python",
   "name": "python",
   "nbconvert_exporter": "python",
   "pygments_lexer": "ipython3",
   "version": "3.6.8"
  }
 },
 "nbformat": 4,
 "nbformat_minor": 2
}
