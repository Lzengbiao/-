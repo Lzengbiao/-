{
 "cells": [
  {
   "cell_type": "code",
   "execution_count": 1,
   "metadata": {},
   "outputs": [],
   "source": [
    "import numpy as np\n",
    "import pandas as pd"
   ]
  },
  {
   "cell_type": "code",
   "execution_count": 2,
   "metadata": {},
   "outputs": [],
   "source": [
    "def get_use_eight_message(name,num):\n",
    "    data = pd.read_csv('../data/user_app_usage_feature_reset.csv')\n",
    "    data = data.sort_values(by=[name+'_mean'],ascending=False)\n",
    "    app = data.groupby(['uid'])['appid'].agg('#'.join)\n",
    "    app = app.reset_index()\n",
    "    data[name+'_mean'] = data[name+'_mean'].apply(lambda x:str(x))\n",
    "    app_mean_value = data.groupby(['uid'])[name+'_mean'].agg(' '.join)\n",
    "    app_mean_value = app_mean_value.reset_index()\n",
    "\n",
    "    data[name+'_max'] = data[name+'_max'].apply(lambda x:str(x))\n",
    "    app_max_value = data.groupby(['uid'])[name+'_max'].agg(' '.join)\n",
    "    app_max_value = app_max_value.reset_index()\n",
    "\n",
    "    data[name+'_min'] = data[name+'_min'].apply(lambda x:str(x))\n",
    "    app_min_value = data.groupby(['uid'])[name+'_min'].agg(' '.join)\n",
    "    app_min_value = app_min_value.reset_index()\n",
    "\n",
    "    del data\n",
    "    app['appidlist'] = app['appid'].apply(lambda x:x.split('#')[0:15])\n",
    "    app_mean_value[name+'_mean'] = app_mean_value[name+'_mean'].apply(lambda x:x.split(' ')[0:15])\n",
    "    app_max_value[name+'_max'] = app_max_value[name+'_max'].apply(lambda x:x.split(' ')[0:15])\n",
    "    app_min_value[name+'_min'] = app_min_value[name+'_min'].apply(lambda x:x.split(' ')[0:15])\n",
    "\n",
    "\n",
    "    for i in range(15):\n",
    "        app['appid'+str(i+num)] = app['appidlist'].apply(lambda x:x[i] if i<len(x) else np.nan)\n",
    "    app.drop(columns=['appidlist'],inplace=True)\n",
    "    for i in range(15):\n",
    "        app_mean_value['app_mean_value'+str(i+num)] = app_mean_value[name+'_mean'].apply(lambda x:float(x[i]) if i<len(x) else np.nan)\n",
    "    for i in range(15):\n",
    "        app_max_value['app_max_value'+str(i+num)] = app_max_value[name+'_max'].apply(lambda x:float(x[i]) if i<len(x) else np.nan)\n",
    "    for i in range(15):\n",
    "        app_min_value['app_min_value'+str(i+num)] = app_min_value[name+'_min'].apply(lambda x:float(x[i]) if i<len(x) else np.nan)\n",
    "    \n",
    "    app_mean_value.drop(columns=[name+'_mean'],inplace=True)\n",
    "    app_max_value.drop(columns=[name+'_max'],inplace=True)\n",
    "    app_min_value.drop(columns=[name+'_min'],inplace=True)\n",
    "    \n",
    "    app = app.merge(app_mean_value,on=['uid'],how='left')\n",
    "    app = app.merge(app_max_value,on=['uid'],how='left')\n",
    "    app = app.merge(app_min_value,on=['uid'],how='left')\n",
    "    app.to_csv('../feature/use_most_eight_{}_app.csv'.format(name),index=False)"
   ]
  },
  {
   "cell_type": "code",
   "execution_count": 3,
   "metadata": {},
   "outputs": [],
   "source": [
    "get_use_eight_message('duration',15)"
   ]
  },
  {
   "cell_type": "code",
   "execution_count": 4,
   "metadata": {},
   "outputs": [],
   "source": [
    "get_use_eight_message('times',0)"
   ]
  },
  {
   "cell_type": "code",
   "execution_count": null,
   "metadata": {},
   "outputs": [],
   "source": []
  }
 ],
 "metadata": {
  "kernelspec": {
   "display_name": "Python 3",
   "language": "python",
   "name": "python3"
  },
  "language_info": {
   "codemirror_mode": {
    "name": "ipython",
    "version": 3
   },
   "file_extension": ".py",
   "mimetype": "text/x-python",
   "name": "python",
   "nbconvert_exporter": "python",
   "pygments_lexer": "ipython3",
   "version": "3.6.8"
  }
 },
 "nbformat": 4,
 "nbformat_minor": 2
}
