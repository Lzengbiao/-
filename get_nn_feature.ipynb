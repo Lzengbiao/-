{
 "cells": [
  {
   "cell_type": "code",
   "execution_count": 1,
   "metadata": {},
   "outputs": [],
   "source": [
    "import pandas as pd\n",
    "import numpy as np"
   ]
  },
  {
   "cell_type": "code",
   "execution_count": 2,
   "metadata": {},
   "outputs": [],
   "source": [
    "age_test_data = pd.read_csv('../data/age_test.csv',names=['uid'])\n",
    "age_train_data = pd.read_csv('../data/age_train.csv',names=['uid','age_group'])"
   ]
  },
  {
   "cell_type": "code",
   "execution_count": 3,
   "metadata": {},
   "outputs": [],
   "source": [
    "app_feature = pd.read_csv('../feature/app_feature.csv')"
   ]
  },
  {
   "cell_type": "code",
   "execution_count": 4,
   "metadata": {},
   "outputs": [],
   "source": [
    "most_dura = pd.read_csv('../feature/use_most_eight_duration_app.csv')"
   ]
  },
  {
   "cell_type": "code",
   "execution_count": 5,
   "metadata": {},
   "outputs": [],
   "source": [
    "user_app_actived = pd.read_csv('../data/user_app_actived.csv',names=['uid','appid_2'])"
   ]
  },
  {
   "cell_type": "code",
   "execution_count": 6,
   "metadata": {},
   "outputs": [
    {
     "name": "stdout",
     "output_type": "stream",
     "text": [
      "2512500\n",
      "2508762\n"
     ]
    }
   ],
   "source": [
    "user_app_actived['len'] = user_app_actived['appid_2'].apply(lambda x:len(x))\n",
    "print(len(user_app_actived))\n",
    "user_app_actived = user_app_actived[user_app_actived['len']>5]\n",
    "user_app_actived.drop(columns=['len'],inplace=True)\n",
    "print(len(user_app_actived))"
   ]
  },
  {
   "cell_type": "code",
   "execution_count": 7,
   "metadata": {},
   "outputs": [],
   "source": [
    "most_dura = most_dura[['uid','appid']]"
   ]
  },
  {
   "cell_type": "code",
   "execution_count": 8,
   "metadata": {},
   "outputs": [],
   "source": [
    "age_train_data = age_train_data.merge(most_dura,on=['uid'],how='left')"
   ]
  },
  {
   "cell_type": "code",
   "execution_count": 9,
   "metadata": {},
   "outputs": [],
   "source": [
    "age_train_data = age_train_data.merge(user_app_actived,on=['uid'],how='left')"
   ]
  },
  {
   "cell_type": "code",
   "execution_count": 10,
   "metadata": {},
   "outputs": [],
   "source": [
    "age_test_data = age_test_data.merge(most_dura,on=['uid'],how='left')\n",
    "age_test_data = age_test_data.merge(user_app_actived,on=['uid'],how='left')"
   ]
  },
  {
   "cell_type": "code",
   "execution_count": 11,
   "metadata": {},
   "outputs": [],
   "source": [
    "######app对应的各个年龄段的数量。。。可能导致数据穿越,过拟合\n",
    "app_age = {}\n",
    "app_list = age_train_data['appid'].values\n",
    "app_age_list = age_train_data['age_group'].values\n",
    "for num,i in enumerate(app_age_list):\n",
    "    app = app_list[num]\n",
    "    if app is np.nan:\n",
    "        continue\n",
    "    if i in app_age:\n",
    "        for j in app.split('#'):\n",
    "            if j in app_age[i]:\n",
    "                app_age[i][j] = app_age[i][j]+1\n",
    "            else:\n",
    "                app_age[i][j] = 1\n",
    "    else:\n",
    "        for j in app.split('#'):\n",
    "            app_age[i] = {}\n",
    "            app_age[i][j] = 1"
   ]
  },
  {
   "cell_type": "code",
   "execution_count": 12,
   "metadata": {},
   "outputs": [],
   "source": [
    "app_age_value = pd.DataFrame(app_age)"
   ]
  },
  {
   "cell_type": "code",
   "execution_count": 13,
   "metadata": {},
   "outputs": [],
   "source": [
    "app_age_value = app_age_value.reset_index().rename(columns={'index':'appid'})"
   ]
  },
  {
   "cell_type": "code",
   "execution_count": 14,
   "metadata": {},
   "outputs": [],
   "source": [
    "age_train_data['appid'] = age_train_data.apply(lambda x:x['appid'] if x['appid'] is not np.nan else x['appid_2'],axis=1)\n",
    "age_test_data['appid'] = age_test_data.apply(lambda x:x['appid'] if x['appid'] is not np.nan else x['appid_2'],axis=1)  "
   ]
  },
  {
   "cell_type": "code",
   "execution_count": 15,
   "metadata": {},
   "outputs": [],
   "source": [
    "age_train_data.drop(columns=['appid_2'],inplace=True)\n",
    "age_test_data.drop(columns=['appid_2'],inplace=True)"
   ]
  },
  {
   "cell_type": "code",
   "execution_count": 16,
   "metadata": {},
   "outputs": [],
   "source": [
    "age_train_data['appid'] = age_train_data['appid'].fillna('a00289791#a0048467')\n",
    "age_test_data['appid'] = age_test_data['appid'].fillna('a00289791#a0048467')"
   ]
  },
  {
   "cell_type": "code",
   "execution_count": 17,
   "metadata": {},
   "outputs": [
    {
     "data": {
      "text/plain": [
       "0"
      ]
     },
     "execution_count": 17,
     "metadata": {},
     "output_type": "execute_result"
    }
   ],
   "source": [
    "age_train_data['appid'].isnull().sum()"
   ]
  },
  {
   "cell_type": "code",
   "execution_count": 18,
   "metadata": {},
   "outputs": [],
   "source": [
    "app_feature = pd.read_csv('../feature/app_feature.csv')"
   ]
  },
  {
   "cell_type": "code",
   "execution_count": 19,
   "metadata": {},
   "outputs": [],
   "source": [
    "app_feature = app_feature.merge(app_age_value,on='appid',how='left')"
   ]
  },
  {
   "cell_type": "code",
   "execution_count": 21,
   "metadata": {},
   "outputs": [],
   "source": [
    "app_feature['allnum'] = app_feature[1]+app_feature[2]+app_feature[3]+app_feature[4]+app_feature[5]+app_feature[6]\n",
    "for i in [1,2,3,4,5,6]:\n",
    "    app_feature[i] = app_feature[i]/(app_feature['allnum']+1)"
   ]
  },
  {
   "cell_type": "code",
   "execution_count": 22,
   "metadata": {},
   "outputs": [],
   "source": [
    "for i in [1,2,3,4,5,6]:\n",
    "    app_feature[i] = app_feature[i].fillna(app_feature[i].mean())"
   ]
  },
  {
   "cell_type": "code",
   "execution_count": 23,
   "metadata": {},
   "outputs": [],
   "source": [
    "app_feature['app_cate'] = app_feature['app_cate'].map(dict(zip(app_feature['app_cate'].unique(), range(0, app_feature['app_cate'].nunique()))))\n",
    "for i in app_feature.columns:\n",
    "    if i=='appid':\n",
    "        continue\n",
    "    app_feature[i] = app_feature[i].fillna(app_feature[i].mean())"
   ]
  },
  {
   "cell_type": "code",
   "execution_count": 24,
   "metadata": {},
   "outputs": [],
   "source": [
    "app_dict = dict(zip(app_feature.values[:,0],app_feature.values[:,1:]))"
   ]
  },
  {
   "cell_type": "code",
   "execution_count": 25,
   "metadata": {},
   "outputs": [],
   "source": [
    "def get_app_feature_vec(a):\n",
    "    featurevec = np.zeros([15,39])\n",
    "    for num,i in enumerate(a.split('#')):\n",
    "        if num>=15:\n",
    "            break\n",
    "        featurevec[num,:] = app_dict[i]\n",
    "    return featurevec\n",
    "age_train_data['appid'] = age_train_data['appid'].apply(lambda x:get_app_feature_vec(x))"
   ]
  },
  {
   "cell_type": "code",
   "execution_count": 26,
   "metadata": {},
   "outputs": [],
   "source": [
    "age_test_data['appid'] = age_test_data['appid'].apply(lambda x:get_app_feature_vec(x))"
   ]
  },
  {
   "cell_type": "code",
   "execution_count": 27,
   "metadata": {},
   "outputs": [],
   "source": [
    "train_fea = np.array(age_train_data['appid'].tolist())\n",
    "test_fea = np.array(age_test_data['appid'].tolist())"
   ]
  },
  {
   "cell_type": "code",
   "execution_count": 28,
   "metadata": {},
   "outputs": [],
   "source": [
    "np.save('../feature/nn_train.npy',train_fea)\n",
    "np.save('../feature/nn_test.npy',test_fea)"
   ]
  },
  {
   "cell_type": "code",
   "execution_count": null,
   "metadata": {},
   "outputs": [],
   "source": []
  }
 ],
 "metadata": {
  "kernelspec": {
   "display_name": "Python 3",
   "language": "python",
   "name": "python3"
  },
  "language_info": {
   "codemirror_mode": {
    "name": "ipython",
    "version": 3
   },
   "file_extension": ".py",
   "mimetype": "text/x-python",
   "name": "python",
   "nbconvert_exporter": "python",
   "pygments_lexer": "ipython3",
   "version": "3.6.8"
  }
 },
 "nbformat": 4,
 "nbformat_minor": 2
}
